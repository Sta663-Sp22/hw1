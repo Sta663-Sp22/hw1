{
 "cells": [
  {
   "cell_type": "markdown",
   "id": "707f4afa-2154-4cf0-ba97-47043c04b4f6",
   "metadata": {},
   "source": [
    "# Homework 1"
   ]
  },
  {
   "cell_type": "markdown",
   "id": "6ffbf2ca-c707-40a7-b143-fa07b6585931",
   "metadata": {},
   "source": [
    "### Task 1 - Wordle Solver\n",
    "\n",
    "#### Background\n",
    "\n",
    "Recently the word game [WORDLE](https://www.powerlanguage.co.uk/wordle/) has seemed to take over the world, or at least twitter. Your task here is to come up with a Wordle puzzle solver in Python. \n",
    "\n",
    "If you are not familiar with the game, a basic description follows: you will be presented with an unknown/secret 5 letter word - your goal is to guess that word with at most 6 guesses. Each time you guess the game will report back whether each of the guessed letters occurs in the secret word either in exactly that position (🟩) or in someother position (🟨), or if it does not occur in any position in the secret word (⬜).\n",
    "\n",
    "We have implemented a basic Wordle game in Python which you can play by importing the `worldle` module, which contains the `puzzle` class."
   ]
  },
  {
   "cell_type": "code",
   "execution_count": 1,
   "id": "d97e6588-a965-42fb-a98c-93b730ff11fb",
   "metadata": {},
   "outputs": [],
   "source": [
    "import wordle"
   ]
  },
  {
   "cell_type": "markdown",
   "id": "665a1f6c-ce56-4c99-a2a2-bfa2f4942e4d",
   "metadata": {},
   "source": [
    "To play a game you can create a puzzle with `wordle.puzzle()` for a random secret word or `wordle.puzzle(seed=123)` to get a specific word, just change the value of seed. Once created, you can make guesses with the `guess()` method. See an example game below.\n",
    "\n",
    "#### Example game"
   ]
  },
  {
   "cell_type": "code",
   "execution_count": 2,
   "id": "bb1c9eb6-e328-4306-86a8-eb5dfdef36e6",
   "metadata": {},
   "outputs": [
    {
     "data": {
      "text/plain": [
       "['🟨', '⬜', '⬜', '⬜', '⬜']"
      ]
     },
     "execution_count": 2,
     "metadata": {},
     "output_type": "execute_result"
    }
   ],
   "source": [
    "p = wordle.puzzle(123)\n",
    "p.guess(\"acute\")"
   ]
  },
  {
   "cell_type": "code",
   "execution_count": 3,
   "id": "79ba0b04-1afe-4afa-937e-4ae8dc4d56db",
   "metadata": {},
   "outputs": [
    {
     "data": {
      "text/plain": [
       "['⬜', '🟩', '🟨', '⬜', '🟨']"
      ]
     },
     "execution_count": 3,
     "metadata": {},
     "output_type": "execute_result"
    }
   ],
   "source": [
    "p.guess(\"lairs\")"
   ]
  },
  {
   "cell_type": "code",
   "execution_count": 4,
   "id": "6e7c3f48-df29-4f22-b911-c9c8199b2ec3",
   "metadata": {},
   "outputs": [
    {
     "data": {
      "text/plain": [
       "['🟩', '🟩', '🟩', '🟩', '⬜']"
      ]
     },
     "execution_count": 4,
     "metadata": {},
     "output_type": "execute_result"
    }
   ],
   "source": [
    "p.guess(\"basin\")"
   ]
  },
  {
   "cell_type": "code",
   "execution_count": 5,
   "id": "ba9e2ca8-96fd-4247-a32c-f973ced5a2da",
   "metadata": {},
   "outputs": [
    {
     "data": {
      "text/plain": [
       "['🟩', '🟩', '🟩', '🟩', '🟩']"
      ]
     },
     "execution_count": 5,
     "metadata": {},
     "output_type": "execute_result"
    }
   ],
   "source": [
    "p.guess(\"basij\")"
   ]
  },
  {
   "cell_type": "code",
   "execution_count": 6,
   "id": "fc26243e-c4c8-479c-8ca1-f0ceeed9282f",
   "metadata": {},
   "outputs": [
    {
     "data": {
      "text/plain": [
       "Wordle puzzle: (Solved)\n",
       "1. 🟨 ⬜ ⬜ ⬜ ⬜\n",
       "2. ⬜ 🟩 🟨 ⬜ 🟨\n",
       "3. 🟩 🟩 🟩 🟩 ⬜\n",
       "4. 🟩 🟩 🟩 🟩 🟩"
      ]
     },
     "execution_count": 6,
     "metadata": {},
     "output_type": "execute_result"
    }
   ],
   "source": [
    "p"
   ]
  },
  {
   "cell_type": "code",
   "execution_count": 7,
   "id": "649f736e-accc-4f2f-b2be-f61afc1cbdc5",
   "metadata": {},
   "outputs": [
    {
     "data": {
      "text/plain": [
       "True"
      ]
     },
     "execution_count": 7,
     "metadata": {},
     "output_type": "execute_result"
    }
   ],
   "source": [
    "p.is_solved()"
   ]
  },
  {
   "cell_type": "markdown",
   "id": "8ebfadb7-10f1-4001-9722-b005b9589900",
   "metadata": {},
   "source": [
    "From the session above you can see that the progress of the game can be checked by printing the puzzle object and the solution status is returned by the `is_solved()` method. A couple of other important rules for this version of the game:\n",
    "\n",
    "* All guesses must be 5 letters, lowercase, and a word in the word list.\n",
    "* The solution must be found within 6 guesses or the puzzle is failed (and further guesses will not be allowed).\n",
    "* If you want to give up and see the secret word, use the `reveal()` method. Once done this will prevent you from guessing further."
   ]
  },
  {
   "cell_type": "markdown",
   "id": "db69a054-98da-4f89-902c-af2653b5ad8e",
   "metadata": {},
   "source": [
    "#### Solver\n",
    "\n",
    "Using the function defition provided below, implement a solver which will attempt to solve any Wordle puzzle object it is given. You may assume that the puzzle is new and that no guesses have been made and that the secret word is part one of the words in the word list provided by the `worlde` module, see `wordle.words`. Your solution may make use of this word list in order to better solve the puzzles."
   ]
  },
  {
   "cell_type": "code",
   "execution_count": 1,
   "id": "3db0b01d-724e-4bb3-8e95-7ab8cb60652d",
   "metadata": {},
   "outputs": [],
   "source": [
    "def puzzle_solver(p):\n",
    "    \n",
    "    return p"
   ]
  },
  {
   "cell_type": "markdown",
   "id": "b02cc670-41c3-4181-b774-9742f87f7bf5",
   "metadata": {},
   "source": [
    "#### Assessment\n",
    "\n",
    "We will be assessing your solver by applying it to a large random sample of puzzles and determining how many puzzles were solved and what the average number of guesses needed.\n",
    "\n",
    "The code used for this assessment will look like the following, with the seed and number of puzzles being altered.\n",
    "\n",
    "The solver which achieved the lowest average number of guesses for our test set will receive extra credit."
   ]
  },
  {
   "cell_type": "code",
   "execution_count": 11,
   "id": "08356bed-aaa9-4feb-8e4e-9eab901df110",
   "metadata": {},
   "outputs": [
    {
     "name": "stdout",
     "output_type": "stream",
     "text": [
      "Solved 0 of 20 puzzles attempted.\n"
     ]
    }
   ],
   "source": [
    "import random\n",
    "random.seed(1234)\n",
    "\n",
    "puzzles  = [wordle.puzzle() for i in range(20)]\n",
    "attempts = [puzzle_solve(p) for p in puzzles]\n",
    "solved   = [p for p in puzzles if p.is_solved()]\n",
    "n_guess  = [p.n_guesses() for p in solved]\n",
    "\n",
    "print(f\"Solved {len(solved)} of {len(puzzles)} puzzles attempted.\")\n",
    "if (len(solved) != 0):\n",
    "    print(f\"Average # of guesses required: {sum(n_guess)/len(n_guess)}\")                         "
   ]
  },
  {
   "cell_type": "markdown",
   "id": "32c885fe-2eeb-4e2a-a6db-27e5a8e79b75",
   "metadata": {},
   "source": [
    "## Task 2\n",
    "\n",
    "The following question is derived from a task given as part of this year's [Advent of Code](https://adventofcode.com/2021). We are presenting a simplified version here for you to work on.\n",
    "\n",
    "For this task you will be given a matrix which is composed of the character values: \".\", \">\", and \"v\" and represents the current state of an evolving system. Your goal is to write a function that will iterate this system one step at a time using a specific set of rules until the system reaches steady state (i.e. the state does not change between the previous step and the current step) and report the number of steps required to reach this point. The following rules are used to iterate the state:\n",
    "\n",
    "* '.' elements are considered empty\n",
    "\n",
    "* '>' elements will move to their right if that position is empty, their current position becomes empty.\n",
    "\n",
    "* 'v' elements will move down if that position is empty, their current position becomes empty.\n",
    "\n",
    "* Elements that move off the right or bottom of the matrix wrap around to the left or top position respectively. These wrapped positions are considered for the purpose of deciding if a move is made or not.\n",
    "\n",
    "* Each step occurs as follows:\n",
    "\n",
    "    * First all of the '>' elements' moves are considered simultaneously, so an element cannot move into a position being freed up by another '>' moving. \n",
    "    \n",
    "    * Second all of the 'v' elements' moves are considerted simultaneously, again elements cannot move into a position being freed up by another 'v' moving. \n",
    "\n",
    "\n",
    "For example consider a single row with elements `.>>..`, it will iterate as follows:\n",
    "\n",
    "0. `.>>..` - Initial state\n",
    "1. `.>.>.` - Step 1, only the rightmost `>` moves\n",
    "2. `..>.>` - Step 2, both `>` may now move\n",
    "3. `>..>.` - Step 3, both `>` move, rightmost wraps to the left side\n",
    "\n",
    "The advent module has been provided which contains a `small` (9 x 10) and `large` (137 x 139) system, these data are stored as a list of lists. \n",
    "\n",
    "**Note** - when working with the state object you will need to make a copy (at one or more points) in your code. Because the state object is a list a lists it is not sufficient to use the `copy()` method, instead you should use the `deepcopy()` function from the `copy` library.\n"
   ]
  },
  {
   "cell_type": "code",
   "execution_count": 2,
   "id": "3bfc88ed-dee0-4ffb-affa-361225ad1904",
   "metadata": {},
   "outputs": [],
   "source": [
    "import advent\n",
    "from copy import deepcopy"
   ]
  },
  {
   "cell_type": "code",
   "execution_count": null,
   "id": "d6bc9d3f-90a9-416a-8c83-a8c30fcf64bd",
   "metadata": {},
   "outputs": [],
   "source": [
    "def advent_step(state):\n",
    "    pass"
   ]
  },
  {
   "cell_type": "code",
   "execution_count": null,
   "id": "0a6e7c1c-4c27-4c17-ac60-e9b4e44e2ad9",
   "metadata": {
    "tags": []
   },
   "outputs": [],
   "source": [
    "def advent_solve(state):\n",
    "    pass"
   ]
  },
  {
   "cell_type": "markdown",
   "id": "82407be7-14af-486d-a9a9-7bcf91911db5",
   "metadata": {},
   "source": [
    "For the two inputs, the correct answer is 58 and 351 steps respectively - below we include `assert`s to validate that the correct answer was obtained by your `advent_solve()` function."
   ]
  },
  {
   "cell_type": "code",
   "execution_count": null,
   "id": "aeac61c4-0361-4a73-8e3b-8571735e6cca",
   "metadata": {},
   "outputs": [],
   "source": [
    "assert advent_solve(advent.small) == 58\n",
    "assert advent_solve(advent.large) == 351"
   ]
  },
  {
   "cell_type": "markdown",
   "id": "2b2385d1-fa48-4e17-8761-0af06c15c33f",
   "metadata": {},
   "source": [
    "## Task 3\n",
    "\n",
    "For this task you will reimplement `advent_step()` and `advent_solve()` using a NumPy ndarray instead of a list of lists and compare the performance between the two implementations. The ndarray versions of the small and large state are available within the `advent` module as `small_np` and `large_np` respectively. Note, due to their structure regular `copy()`s are sufficient for ndarray objects."
   ]
  },
  {
   "cell_type": "code",
   "execution_count": null,
   "id": "db36c253-2eee-4677-b010-f34c085f3738",
   "metadata": {},
   "outputs": [],
   "source": [
    "def advent_step_np(state):\n",
    "    pass"
   ]
  },
  {
   "cell_type": "code",
   "execution_count": null,
   "id": "f538d3bc-d9fd-4eb8-98c0-f37a1e53c7bb",
   "metadata": {},
   "outputs": [],
   "source": [
    "def advent_solve_np(state):\n",
    "    pass"
   ]
  },
  {
   "cell_type": "markdown",
   "id": "7fe867a9-a9ad-4bc8-811a-e4765dc07461",
   "metadata": {},
   "source": [
    "Once again we use the following `assert`s to validate that the correct answer was obtained by your `advent_solve_np()` function."
   ]
  },
  {
   "cell_type": "code",
   "execution_count": null,
   "id": "5b7933a9-1955-4fc0-bad7-da15d5e69a95",
   "metadata": {},
   "outputs": [],
   "source": [
    "assert advent_solve_np(advent.small_np) == 58\n",
    "assert advent_solve_np(advent.large_np) == 351"
   ]
  },
  {
   "cell_type": "markdown",
   "id": "85877e11-24fc-4907-a914-51ad1a419653",
   "metadata": {},
   "source": [
    "Once the new implementation is working, run the following cells to obtain some basic performance metrics for the two implementations."
   ]
  },
  {
   "cell_type": "code",
   "execution_count": null,
   "id": "39dd8660-8447-4d42-a191-385133984d67",
   "metadata": {},
   "outputs": [],
   "source": [
    "%timeit advent_solve(advent.large)"
   ]
  },
  {
   "cell_type": "code",
   "execution_count": null,
   "id": "4cbc3b8b-4391-48e0-b31f-79d4217d7211",
   "metadata": {},
   "outputs": [],
   "source": [
    "%timeit advent_solve_np(advent.large)"
   ]
  },
  {
   "cell_type": "markdown",
   "id": "75d36e5b-5bd2-4b1f-ba43-21013a6350a0",
   "metadata": {},
   "source": [
    "**Discussion** - Which implementation was faster? Explain why you think this is?"
   ]
  },
  {
   "cell_type": "markdown",
   "id": "d75fefde-cdb7-4a47-82b9-040cbdc42bec",
   "metadata": {},
   "source": []
  }
 ],
 "metadata": {
  "kernelspec": {
   "display_name": "Python 3 (ipykernel)",
   "language": "python",
   "name": "python3"
  },
  "language_info": {
   "codemirror_mode": {
    "name": "ipython",
    "version": 3
   },
   "file_extension": ".py",
   "mimetype": "text/x-python",
   "name": "python",
   "nbconvert_exporter": "python",
   "pygments_lexer": "ipython3",
   "version": "3.9.10"
  }
 },
 "nbformat": 4,
 "nbformat_minor": 5
}
