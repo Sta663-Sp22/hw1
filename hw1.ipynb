{
 "cells": [
  {
   "cell_type": "markdown",
   "id": "707f4afa-2154-4cf0-ba97-47043c04b4f6",
   "metadata": {},
   "source": [
    "# Homework 1"
   ]
  },
  {
   "cell_type": "markdown",
   "id": "6ffbf2ca-c707-40a7-b143-fa07b6585931",
   "metadata": {},
   "source": [
    "### Task 1 - Wordle"
   ]
  },
  {
   "cell_type": "markdown",
   "id": "c7a799e9-096c-490c-8f14-3904b033e3f2",
   "metadata": {},
   "source": [
    "*Include a brief write up describing your implementation in this cell (and delete these instructions). Your function must incldue a reasonable docstring and comments to be considered complete.*"
   ]
  },
  {
   "cell_type": "code",
   "execution_count": null,
   "id": "bb1c9eb6-e328-4306-86a8-eb5dfdef36e6",
   "metadata": {},
   "outputs": [],
   "source": [
    "p = wordle.puzzle(123)\n",
    "p.guess(\"acute\")"
   ]
  },
  {
   "cell_type": "code",
   "execution_count": null,
   "id": "79ba0b04-1afe-4afa-937e-4ae8dc4d56db",
   "metadata": {},
   "outputs": [],
   "source": [
    "p.guess(\"lairs\")"
   ]
  },
  {
   "cell_type": "code",
   "execution_count": null,
   "id": "6e7c3f48-df29-4f22-b911-c9c8199b2ec3",
   "metadata": {},
   "outputs": [],
   "source": [
    "p.guess(\"basin\")"
   ]
  },
  {
   "cell_type": "code",
   "execution_count": null,
   "id": "ba9e2ca8-96fd-4247-a32c-f973ced5a2da",
   "metadata": {},
   "outputs": [],
   "source": [
    "p.guess(\"basij\")"
   ]
  },
  {
   "cell_type": "code",
   "execution_count": null,
   "id": "fc26243e-c4c8-479c-8ca1-f0ceeed9282f",
   "metadata": {},
   "outputs": [],
   "source": [
    "p"
   ]
  },
  {
   "cell_type": "code",
   "execution_count": null,
   "id": "649f736e-accc-4f2f-b2be-f61afc1cbdc5",
   "metadata": {},
   "outputs": [],
   "source": [
    "p.is_solved()"
   ]
  },
  {
   "cell_type": "markdown",
   "id": "8ebfadb7-10f1-4001-9722-b005b9589900",
   "metadata": {},
   "source": [
    "From the session above you can see that the progress of the game can be checked by printing the puzzle object and the solution status is returned by the `is_solved()` method. A couple of other important rules for this version of the game:\n",
    "\n",
    "* All guesses must be 5 letters, lowercase, and a word in the word list.\n",
    "* The solution must be found within 6 guesses or the puzzle is failed (and further guesses will not be allowed).\n",
    "* If you want to give up and see the secret word, use the `reveal()` method. Once done this will prevent you from guessing further."
   ]
  },
  {
   "cell_type": "code",
   "execution_count": null,
   "id": "3db0b01d-724e-4bb3-8e95-7ab8cb60652d",
   "metadata": {},
   "outputs": [],
   "source": [
    "import wordle\n",
    "\n",
    "def puzzle_solver(p):\n",
    "    \"\"\"\n",
    "    Include a docstring\n",
    "    \"\"\"\n",
    "    \n",
    "    return p"
   ]
  },
  {
   "cell_type": "markdown",
   "id": "b02cc670-41c3-4181-b774-9742f87f7bf5",
   "metadata": {},
   "source": [
    "### Assessment\n",
    "\n",
    "Change both the seed value and `n` of puzzles to get a more accurate view of your solver's performance."
   ]
  },
  {
   "cell_type": "code",
   "execution_count": null,
   "id": "08356bed-aaa9-4feb-8e4e-9eab901df110",
   "metadata": {},
   "outputs": [],
   "source": [
    "import random\n",
    "random.seed(1234)\n",
    "n = 20\n",
    "\n",
    "puzzles  = [wordle.puzzle() for i in range(n)]\n",
    "attempts = [puzzle_solver(p) for p in puzzles]\n",
    "solved   = [p for p in puzzles if p.is_solved()]\n",
    "n_guess  = [p.n_guesses() for p in solved]\n",
    "\n",
    "print(f\"Solved {len(solved)} of {len(puzzles)} puzzles attempted.\")\n",
    "if (len(solved) != 0):\n",
    "    print(f\"Average # of guesses required: {sum(n_guess)/len(n_guess)}\")                         "
   ]
  },
  {
   "cell_type": "markdown",
   "id": "32c885fe-2eeb-4e2a-a6db-27e5a8e79b75",
   "metadata": {
    "tags": []
   },
   "source": [
    "## Task 2"
   ]
  },
  {
   "cell_type": "markdown",
   "id": "4e2b35a6-50c5-4cb2-975e-ea4a5f79c966",
   "metadata": {},
   "source": [
    "*Include a brief write up describing your implementation in this cell (and delete these instructions). Your functions must incldue a reasonable docstring and comments to be considered complete.*"
   ]
  },
  {
   "cell_type": "code",
   "execution_count": null,
   "id": "3bfc88ed-dee0-4ffb-affa-361225ad1904",
   "metadata": {},
   "outputs": [],
   "source": [
    "import advent\n",
    "from copy import deepcopy"
   ]
  },
  {
   "cell_type": "code",
   "execution_count": null,
   "id": "d6bc9d3f-90a9-416a-8c83-a8c30fcf64bd",
   "metadata": {},
   "outputs": [],
   "source": [
    "def advent_step(state):\n",
    "    \"\"\"\n",
    "    Include a docstring\n",
    "    \"\"\"\n",
    "    \n",
    "    pass"
   ]
  },
  {
   "cell_type": "code",
   "execution_count": null,
   "id": "0a6e7c1c-4c27-4c17-ac60-e9b4e44e2ad9",
   "metadata": {
    "tags": []
   },
   "outputs": [],
   "source": [
    "def advent_solve(state):\n",
    "    \"\"\"\n",
    "    Include a docstring\n",
    "    \"\"\"\n",
    "    \n",
    "    pass"
   ]
  },
  {
   "cell_type": "code",
   "execution_count": null,
   "id": "aeac61c4-0361-4a73-8e3b-8571735e6cca",
   "metadata": {},
   "outputs": [],
   "source": [
    "# Check that the implementation above returns the correct results\n",
    "assert advent_solve(advent.small) == 58\n",
    "assert advent_solve(advent.large) == 351"
   ]
  },
  {
   "cell_type": "markdown",
   "id": "2b2385d1-fa48-4e17-8761-0af06c15c33f",
   "metadata": {},
   "source": [
    "## Task 3"
   ]
  },
  {
   "cell_type": "markdown",
   "id": "11e1445d-5090-4036-ba1f-a84af303c028",
   "metadata": {},
   "source": [
    "*Include a brief write up describing your implementation in this cell (and delete these instructions). Your functions must incldue a reasonable docstring and comments to be considered complete.*"
   ]
  },
  {
   "cell_type": "code",
   "execution_count": null,
   "id": "db36c253-2eee-4677-b010-f34c085f3738",
   "metadata": {},
   "outputs": [],
   "source": [
    "def advent_step_np(state):\n",
    "    \"\"\"\n",
    "    Include a docstring\n",
    "    \"\"\"\n",
    "    \n",
    "    pass"
   ]
  },
  {
   "cell_type": "code",
   "execution_count": null,
   "id": "f538d3bc-d9fd-4eb8-98c0-f37a1e53c7bb",
   "metadata": {},
   "outputs": [],
   "source": [
    "def advent_solve_np(state):\n",
    "    \"\"\"\n",
    "    Include a docstring\n",
    "    \"\"\"\n",
    "    \n",
    "    pass"
   ]
  },
  {
   "cell_type": "code",
   "execution_count": null,
   "id": "5b7933a9-1955-4fc0-bad7-da15d5e69a95",
   "metadata": {},
   "outputs": [],
   "source": [
    "# Check that the implementation above returns the correct results\n",
    "assert advent_solve_np(advent.small_np) == 58\n",
    "assert advent_solve_np(advent.large_np) == 351"
   ]
  },
  {
   "cell_type": "markdown",
   "id": "85877e11-24fc-4907-a914-51ad1a419653",
   "metadata": {},
   "source": [
    "### Performance"
   ]
  },
  {
   "cell_type": "code",
   "execution_count": null,
   "id": "39dd8660-8447-4d42-a191-385133984d67",
   "metadata": {},
   "outputs": [],
   "source": [
    "%timeit advent_solve(advent.large)"
   ]
  },
  {
   "cell_type": "code",
   "execution_count": null,
   "id": "4cbc3b8b-4391-48e0-b31f-79d4217d7211",
   "metadata": {},
   "outputs": [],
   "source": [
    "%timeit advent_solve_np(advent.large)"
   ]
  },
  {
   "cell_type": "markdown",
   "id": "75d36e5b-5bd2-4b1f-ba43-21013a6350a0",
   "metadata": {},
   "source": [
    "*Discuss: which implementation was faster? Explain why you think this is?*"
   ]
  }
 ],
 "metadata": {
  "kernelspec": {
   "display_name": "Python 3 (ipykernel)",
   "language": "python",
   "name": "python3"
  },
  "language_info": {
   "codemirror_mode": {
    "name": "ipython",
    "version": 3
   },
   "file_extension": ".py",
   "mimetype": "text/x-python",
   "name": "python",
   "nbconvert_exporter": "python",
   "pygments_lexer": "ipython3",
   "version": "3.9.10"
  }
 },
 "nbformat": 4,
 "nbformat_minor": 5
}
